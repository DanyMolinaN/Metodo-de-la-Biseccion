{
 "cells": [
  {
   "cell_type": "markdown",
   "id": "6859b0fd",
   "metadata": {},
   "source": [
    "<div style=\"text-align: center;\">\n",
    "\n",
    "## Escuela Politécnica Nacional\n",
    "\n",
    "</div>\n",
    "\n",
    "**Nombre:**  Dany Molina\n",
    "\n",
    "**Fecha:**  18/05/2025\n",
    "\n",
    "<div style=\"text-align: center;\">\n",
    "\n",
    "## Tarea 4 - Método de la Bisección\n",
    "\n",
    "### Ejercicio 1\n",
    "\n",
    "</div>"
   ]
  },
  {
   "cell_type": "markdown",
   "id": "ba9cbf7e",
   "metadata": {},
   "source": [
    "Use el método de bisección para encontrar soluciones precisas dentro de $ 10^{-2} $ para  $x^3 - 7x^2 + 14x - 6 = 0$ en cada intervalo.\n",
    "\n",
    "**a.** $[0, 1]$\n"
   ]
  },
  {
   "cell_type": "code",
   "execution_count": 13,
   "id": "d1f08f6e",
   "metadata": {},
   "outputs": [
    {
     "name": "stdout",
     "output_type": "stream",
     "text": [
      "\n",
      "Intervalo inicial: [0, 1]\n",
      "Iteración 0: a = 0.0000, b = 1.0000, m = 0.5000, f(m) = -0.6250\n",
      "Iteración 1: a = 0.5000, b = 1.0000, m = 0.7500, f(m) = 0.9844\n",
      "Iteración 2: a = 0.5000, b = 0.7500, m = 0.6250, f(m) = 0.2598\n",
      "Iteración 3: a = 0.5000, b = 0.6250, m = 0.5625, f(m) = -0.1619\n",
      "Iteración 4: a = 0.5625, b = 0.6250, m = 0.5938, f(m) = 0.0540\n",
      "Iteración 5: a = 0.5625, b = 0.5938, m = 0.5781, f(m) = -0.0526\n",
      "Raíz aproximada: 0.5859 con tolerancia < 0.01\n",
      "Raiz en [0,1]: 0.5859\n"
     ]
    }
   ],
   "source": [
    "def f(x):\n",
    "    return x**3 - 7*x**2 + 14*x - 6\n",
    "\n",
    "def biseccion(f, a, b, tol=1e-2, max_iter=100):\n",
    "    if f(a) * f(b) >= 0:\n",
    "        raise ValueError(\"El método de bisección no se puede aplicar: f(a) y f(b) no tienen signos opuestos.\")\n",
    "    \n",
    "    print(f\"\\nIntervalo inicial: [{a}, {b}]\")\n",
    "    iteracion = 0\n",
    "    while (b - a) / 2 > tol and iteracion < max_iter:\n",
    "        m = (a + b) / 2\n",
    "        print(f\"Iteración {iteracion}: a = {a:.4f}, b = {b:.4f}, m = {m:.4f}, f(m) = {f(m):.4f}\")\n",
    "        \n",
    "        if f(m) == 0:\n",
    "            break\n",
    "        elif f(a) * f(m) < 0:\n",
    "            b = m\n",
    "        else:\n",
    "            a = m\n",
    "        iteracion += 1\n",
    "    print(f\"Raíz aproximada: {(a + b)/2:.4f} con tolerancia < {tol}\")\n",
    "    return (a + b) / 2\n",
    "\n",
    "raiz_a = biseccion(f, 0, 1)\n",
    "print(f\"Raiz en [0,1]: {raiz_a:.4f}\")"
   ]
  },
  {
   "cell_type": "markdown",
   "id": "7eb63fa7",
   "metadata": {},
   "source": [
    "**b.** $[1,3.2]$"
   ]
  },
  {
   "cell_type": "code",
   "execution_count": 10,
   "id": "e12efaed",
   "metadata": {},
   "outputs": [
    {
     "name": "stdout",
     "output_type": "stream",
     "text": [
      "\n",
      "Intervalo inicial: [1, 3.2]\n",
      "Iteración 0: a = 1.0000, b = 3.2000, m = 2.1000, f(m) = 1.7910\n",
      "Iteración 1: a = 2.1000, b = 3.2000, m = 2.6500, f(m) = 0.5521\n",
      "Iteración 2: a = 2.6500, b = 3.2000, m = 2.9250, f(m) = 0.0858\n",
      "Iteración 3: a = 2.9250, b = 3.2000, m = 3.0625, f(m) = -0.0544\n",
      "Iteración 4: a = 2.9250, b = 3.0625, m = 2.9938, f(m) = 0.0063\n",
      "Iteración 5: a = 2.9938, b = 3.0625, m = 3.0281, f(m) = -0.0265\n",
      "Iteración 6: a = 2.9938, b = 3.0281, m = 3.0109, f(m) = -0.0107\n",
      "Raíz aproximada: 3.0023 con tolerancia < 0.01\n",
      "Raiz en [1,3.2]: 3.0023\n"
     ]
    }
   ],
   "source": [
    "raiz_b = biseccion(f, 1, 3.2)\n",
    "print(f\"Raiz en [1,3.2]: {raiz_b:.4f}\")"
   ]
  },
  {
   "cell_type": "markdown",
   "id": "69628550",
   "metadata": {},
   "source": [
    "**c.** $[3.2,4]$"
   ]
  },
  {
   "cell_type": "code",
   "execution_count": 12,
   "id": "9b26f399",
   "metadata": {},
   "outputs": [
    {
     "name": "stdout",
     "output_type": "stream",
     "text": [
      "\n",
      "Intervalo inicial: [3.2, 4]\n",
      "Iteración 0: a = 3.2000, b = 4.0000, m = 3.6000, f(m) = 0.3360\n",
      "Iteración 1: a = 3.2000, b = 3.6000, m = 3.4000, f(m) = -0.0160\n",
      "Iteración 2: a = 3.4000, b = 3.6000, m = 3.5000, f(m) = 0.1250\n",
      "Iteración 3: a = 3.4000, b = 3.5000, m = 3.4500, f(m) = 0.0461\n",
      "Iteración 4: a = 3.4000, b = 3.4500, m = 3.4250, f(m) = 0.0130\n",
      "Iteración 5: a = 3.4000, b = 3.4250, m = 3.4125, f(m) = -0.0020\n",
      "Raíz aproximada: 3.4188 con tolerancia < 0.01\n",
      "Raiz en [3.2,4]: 3.4188\n"
     ]
    }
   ],
   "source": [
    "raiz_c = biseccion(f, 3.2, 4)\n",
    "print(f\"Raiz en [3.2,4]: {raiz_c:.4f}\")"
   ]
  }
 ],
 "metadata": {
  "kernelspec": {
   "display_name": "Python 3",
   "language": "python",
   "name": "python3"
  },
  "language_info": {
   "codemirror_mode": {
    "name": "ipython",
    "version": 3
   },
   "file_extension": ".py",
   "mimetype": "text/x-python",
   "name": "python",
   "nbconvert_exporter": "python",
   "pygments_lexer": "ipython3",
   "version": "3.13.3"
  }
 },
 "nbformat": 4,
 "nbformat_minor": 5
}
