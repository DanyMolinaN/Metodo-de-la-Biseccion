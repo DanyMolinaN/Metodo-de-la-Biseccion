{
 "cells": [
  {
   "cell_type": "markdown",
   "id": "2368311a",
   "metadata": {},
   "source": [
    "<div style=\"text-align: center;\">\n",
    "\n",
    "## Escuela Politécnica Nacional\n",
    "\n",
    "</div>\n",
    "\n",
    "**Nombre:**  Dany Molina\n",
    "\n",
    "**Fecha:**  18/05/2025\n",
    "\n",
    "<div style=\"text-align: center;\">\n",
    "\n",
    "## Tarea 4 - Método de la Bisección\n",
    "\n",
    "### Ejercicios Aplicados \n",
    "\n",
    "</div>"
   ]
  },
  {
   "cell_type": "markdown",
   "id": "6d6f8c60",
   "metadata": {},
   "source": [
    "**2.** Un objeto que cae verticalmente a través del aire está sujeto a una resistencia viscosa, así como a la fuerza de gravedad. Suponga que un objeto con masa $𝑚$ cae desde una altura $𝑠_0$ y que la altura del objeto después de $𝑡$ segundos es \n",
    "\n",
    "$$s(t) = s_0 - (mg/k)*t + (m^{2}*g/k^{2})*(1-e^{-kt/m})$$\n",
    "\n",
    "donde 𝑔 = 9.81 $𝑚/s^2$ y $𝑘$ representa el coeficiente de la resistencia del aire en $N_s/m$. Suponga $𝑠_0$ = 300 𝑚,\n",
    "𝑚 = 0.25 𝑘𝑔 y 𝑘 = 0.1 $N_s/m$. Encuentre, dentro de 0.01 𝑠𝑒𝑔𝑢𝑛𝑑𝑜𝑠, el tiempo que tarda un cuarto de kg en\n",
    "golpear el piso. "
   ]
  },
  {
   "cell_type": "code",
   "execution_count": 1,
   "id": "a70ceb08",
   "metadata": {},
   "outputs": [
    {
     "name": "stdout",
     "output_type": "stream",
     "text": [
      "f(10) = 114.93952239063448\n",
      "f(20) = -129.20806805237328\n",
      "f(30) = -374.4378767170199\n",
      "\n",
      "Tiempo de impacto ≈ 14.72 segundos\n"
     ]
    }
   ],
   "source": [
    "import math\n",
    "\n",
    "# Parámetros dados\n",
    "s0 = 300          # altura inicial (m)\n",
    "m = 0.25          # masa (kg)\n",
    "k = 0.1           # coeficiente de resistencia (Ns/m)\n",
    "g = 9.81          # gravedad (m/s^2)\n",
    "\n",
    "# Definir la función f(t) = s(t)\n",
    "def f(t):\n",
    "    term1 = (m * g / k) * t\n",
    "    term2 = (m**2 * g / k**2) * (1 - math.exp(-k * t / m))\n",
    "    return s0 - term1 + term2\n",
    "\n",
    "# Método de bisección\n",
    "def biseccion(f, a, b, tol=0.01):\n",
    "    if f(a) * f(b) > 0:\n",
    "        raise ValueError(\"No hay cambio de signo en el intervalo [a, b]\")\n",
    "\n",
    "    while (b - a)/2 > tol:\n",
    "        c = (a + b)/2\n",
    "        if f(c) == 0:\n",
    "            return c\n",
    "        elif f(a)*f(c) < 0:\n",
    "            b = c\n",
    "        else:\n",
    "            a = c\n",
    "    return (a + b)/2\n",
    "\n",
    "# Buscar el intervalo adecuado (probamos algunos valores)\n",
    "print(f\"f(10) = {f(10)}\")\n",
    "print(f\"f(20) = {f(20)}\")\n",
    "print(f\"f(30) = {f(30)}\")\n",
    "\n",
    "# Ejecutar el método de bisección en un intervalo razonable\n",
    "t_impacto = biseccion(f, 10, 30, tol=0.01)\n",
    "\n",
    "print(f\"\\nTiempo de impacto ≈ {t_impacto:.2f} segundos\")\n"
   ]
  }
 ],
 "metadata": {
  "kernelspec": {
   "display_name": "Python 3",
   "language": "python",
   "name": "python3"
  },
  "language_info": {
   "codemirror_mode": {
    "name": "ipython",
    "version": 3
   },
   "file_extension": ".py",
   "mimetype": "text/x-python",
   "name": "python",
   "nbconvert_exporter": "python",
   "pygments_lexer": "ipython3",
   "version": "3.13.3"
  }
 },
 "nbformat": 4,
 "nbformat_minor": 5
}
