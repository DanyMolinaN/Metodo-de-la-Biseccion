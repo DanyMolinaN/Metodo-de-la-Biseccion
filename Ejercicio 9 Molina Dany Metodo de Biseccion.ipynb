{
 "cells": [
  {
   "cell_type": "markdown",
   "id": "b27ae039",
   "metadata": {},
   "source": [
    "<div style=\"text-align: center;\">\n",
    "\n",
    "## Escuela Politécnica Nacional\n",
    "\n",
    "</div>\n",
    "\n",
    "**Nombre:**  Dany Molina\n",
    "\n",
    "**Fecha:**  18/05/2025\n",
    "\n",
    "<div style=\"text-align: center;\">\n",
    "\n",
    "## Tarea 4 - Método de la Bisección\n",
    "\n",
    "### Ejercicios Teóricos\n",
    "\n",
    "</div>"
   ]
  },
  {
   "cell_type": "markdown",
   "id": "5fc7bbdf",
   "metadata": {},
   "source": [
    "**2.** La función definida por $𝑓(𝑥) = sin 𝜋 𝑥$ tiene ceros en cada entero. Muestre cuando $−1 < 𝑎 < 0 \\quad y \\quad 2 < 𝑏 < 3$, el método de bisección converge a\n",
    "\n",
    "Describa cuál rango es más eficiente.\n",
    "\n",
    "**a.** $0$ $\\quad$, 𝑠𝑖 $\\quad$ $ 𝑎 + 𝑏 < 2$ \n"
   ]
  },
  {
   "cell_type": "code",
   "execution_count": 13,
   "id": "d3ff06dd",
   "metadata": {},
   "outputs": [
    {
     "name": "stdout",
     "output_type": "stream",
     "text": [
      "\n",
      "RESULTADOS DEL MÉTODO DE BISECCIÓN:\n",
      "\n",
      " a + b < 2 → converge a 0\n",
      " Intervalo: [-0.8, 2.6]\n",
      " Raíz aproximada: -0.00000005\n",
      " Iteraciones: 21\n",
      "\n"
     ]
    }
   ],
   "source": [
    "import math\n",
    "\n",
    "# Función f(x) = sin(pi * x)\n",
    "def f(x):\n",
    "    return math.sin(math.pi * x)\n",
    "\n",
    "# Método de bisección\n",
    "def biseccion(f, a, b, tol=1e-6, max_iter=1000):\n",
    "    if f(a) * f(b) > 0:\n",
    "        raise ValueError(f\"No hay cambio de signo en el intervalo [{a}, {b}]\")\n",
    "    \n",
    "    iteraciones = 0\n",
    "    while (b - a) / 2 > tol and iteraciones < max_iter:\n",
    "        c = (a + b) / 2\n",
    "        iteraciones += 1\n",
    "        if abs(f(c)) < tol:\n",
    "            return c, iteraciones\n",
    "        elif f(a) * f(c) < 0:\n",
    "            b = c\n",
    "        else:\n",
    "            a = c\n",
    "\n",
    "    if iteraciones == max_iter:\n",
    "        raise Exception(\"No converge dentro del número máximo de iteraciones\")\n",
    "\n",
    "    return (a + b) / 2, iteraciones\n",
    "\n",
    "\n",
    "print(\"\\nRESULTADOS DEL MÉTODO DE BISECCIÓN:\\n\")\n",
    "try:\n",
    "    raiz, iteraciones = biseccion(f, -0.8, 2.6, tol=1e-6)\n",
    "    print(f\" a + b < 2 → converge a 0\")\n",
    "    print(f\" Intervalo: [{-0.8}, {2.6}]\")\n",
    "    print(f\" Raíz aproximada: {raiz:.8f}\")\n",
    "    print(f\" Iteraciones: {iteraciones}\\n\")\n",
    "except Exception as e:\n",
    "    print(f\"a + b < 2 → Error: {e}\\n\")\n"
   ]
  },
  {
   "cell_type": "markdown",
   "id": "d553392f",
   "metadata": {},
   "source": [
    "**b.** $2$ $\\quad$,𝑠𝑖 $\\quad$ $𝑎 + 𝑏 > 2$\n"
   ]
  },
  {
   "cell_type": "code",
   "execution_count": 14,
   "id": "23173ee4",
   "metadata": {},
   "outputs": [
    {
     "name": "stdout",
     "output_type": "stream",
     "text": [
      "\n",
      "RESULTADOS DEL MÉTODO DE BISECCIÓN:\n",
      "\n",
      " a + b > 2 → converge a 2\n",
      " Intervalo: [-0.1, 2.3]\n",
      " Raíz aproximada: 2.00000000\n",
      " Iteraciones: 3\n",
      "\n"
     ]
    }
   ],
   "source": [
    "print(\"\\nRESULTADOS DEL MÉTODO DE BISECCIÓN:\\n\")\n",
    "try:\n",
    "    raiz, iteraciones = biseccion(f, -0.1, 2.3, tol=1e-6)\n",
    "    print(f\" a + b > 2 → converge a 2\")\n",
    "    print(f\" Intervalo: [{-0.1}, {2.3}]\")\n",
    "    print(f\" Raíz aproximada: {raiz:.8f}\")\n",
    "    print(f\" Iteraciones: {iteraciones}\\n\")\n",
    "except Exception as e:\n",
    "    print(f\"a + b > 2 → Error: {e}\\n\")\n"
   ]
  },
  {
   "cell_type": "markdown",
   "id": "eb4063ef",
   "metadata": {},
   "source": [
    "**c.** $1$ $\\quad$, 𝑠𝑖 $\\quad$ $𝑎 + 𝑏 = 2$\n"
   ]
  },
  {
   "cell_type": "code",
   "execution_count": 15,
   "id": "e8cdd8d7",
   "metadata": {},
   "outputs": [
    {
     "name": "stdout",
     "output_type": "stream",
     "text": [
      "\n",
      "RESULTADOS DEL MÉTODO DE BISECCIÓN:\n",
      "\n",
      " a + b = 2 → converge a 1\n",
      " Intervalo: [-0.5, 2.5]\n",
      " Raíz aproximada: 1.00000000\n",
      " Iteraciones: 1\n",
      "\n"
     ]
    }
   ],
   "source": [
    "print(\"\\nRESULTADOS DEL MÉTODO DE BISECCIÓN:\\n\")\n",
    "try:\n",
    "    raiz, iteraciones = biseccion(f, -0.5, 2.5, tol=1e-6)\n",
    "    print(f\" a + b = 2 → converge a 1\")\n",
    "    print(f\" Intervalo: [{-0.5}, {2.5}]\")\n",
    "    print(f\" Raíz aproximada: {raiz:.8f}\")\n",
    "    print(f\" Iteraciones: {iteraciones}\\n\")\n",
    "except Exception as e:\n",
    "    print(f\"a + b = 2 → Error: {e}\\n\")"
   ]
  },
  {
   "cell_type": "markdown",
   "id": "ff865acb",
   "metadata": {},
   "source": [
    "#### **CONCLUSION**\n",
    "El intervalo que posee un **mayor eficiencia**  es el intervalo del lieral **c** "
   ]
  }
 ],
 "metadata": {
  "kernelspec": {
   "display_name": "Python 3",
   "language": "python",
   "name": "python3"
  },
  "language_info": {
   "codemirror_mode": {
    "name": "ipython",
    "version": 3
   },
   "file_extension": ".py",
   "mimetype": "text/x-python",
   "name": "python",
   "nbconvert_exporter": "python",
   "pygments_lexer": "ipython3",
   "version": "3.13.3"
  }
 },
 "nbformat": 4,
 "nbformat_minor": 5
}
