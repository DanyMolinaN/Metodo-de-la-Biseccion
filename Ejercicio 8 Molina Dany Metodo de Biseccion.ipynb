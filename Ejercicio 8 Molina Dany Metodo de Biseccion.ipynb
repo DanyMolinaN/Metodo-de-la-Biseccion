{
 "cells": [
  {
   "cell_type": "markdown",
   "id": "b0233da0",
   "metadata": {},
   "source": [
    "<div style=\"text-align: center;\">\n",
    "\n",
    "## Escuela Politécnica Nacional\n",
    "\n",
    "</div>\n",
    "\n",
    "**Nombre:**  Dany Molina\n",
    "\n",
    "**Fecha:**  18/05/2025\n",
    "\n",
    "<div style=\"text-align: center;\">\n",
    "\n",
    "## Tarea 4 - Método de la Bisección\n",
    "\n",
    "### Ejercicios Teóricos\n",
    "\n",
    "</div>"
   ]
  },
  {
   "cell_type": "markdown",
   "id": "d868844f",
   "metadata": {},
   "source": [
    "**1.** Use el teorema 2.1 para encontrar una cota para el número de iteraciones necesarias para lograr una aproximación con precisión de $10^-4$ para la solución de $x^3-x-1=0$ que se encuentra dentro del intervalo\n",
    "[1, 2]. Encuentre una aproximación para la raíz con este grado de precisión. \n"
   ]
  },
  {
   "cell_type": "markdown",
   "id": "e35eed1a",
   "metadata": {},
   "source": [
    "**Calcular la cota para el número de iteraciones (Teorema 2.1)**\n",
    "\n",
    "El Teorema 2.1 del método de bisección establece que el número de iteraciones 𝑛 necesarias para alcanzar una precisión 𝜀 está dado por:\n",
    "\n",
    "$$n \\leq \\frac{log(b-a)-log(𝜀)}{log(2)}$$\n"
   ]
  },
  {
   "cell_type": "code",
   "execution_count": 1,
   "id": "e26a4832",
   "metadata": {},
   "outputs": [
    {
     "name": "stdout",
     "output_type": "stream",
     "text": [
      "Raíz aproximada: 1.32477\n",
      "Iteraciones realizadas: 13\n"
     ]
    }
   ],
   "source": [
    "import math\n",
    "\n",
    "# Definir la función\n",
    "def f(x):\n",
    "    return x**3 - x - 1\n",
    "\n",
    "# Método de bisección\n",
    "def biseccion(f, a, b, tol=1e-4):\n",
    "    if f(a) * f(b) > 0:\n",
    "        raise ValueError(\"No hay cambio de signo en el intervalo\")\n",
    "    \n",
    "    iteraciones = 0\n",
    "    while (b - a) / 2 > tol:\n",
    "        c = (a + b) / 2\n",
    "        iteraciones += 1\n",
    "        if f(c) == 0:\n",
    "            break\n",
    "        elif f(a) * f(c) < 0:\n",
    "            b = c\n",
    "        else:\n",
    "            a = c\n",
    "    return (a + b) / 2, iteraciones\n",
    "\n",
    "# Ejecutar\n",
    "raiz_aprox, n = biseccion(f, 1, 2, tol=1e-4)\n",
    "\n",
    "print(f\"Raíz aproximada: {raiz_aprox:.5f}\")\n",
    "print(f\"Iteraciones realizadas: {n}\")\n"
   ]
  }
 ],
 "metadata": {
  "kernelspec": {
   "display_name": "Python 3",
   "language": "python",
   "name": "python3"
  },
  "language_info": {
   "codemirror_mode": {
    "name": "ipython",
    "version": 3
   },
   "file_extension": ".py",
   "mimetype": "text/x-python",
   "name": "python",
   "nbconvert_exporter": "python",
   "pygments_lexer": "ipython3",
   "version": "3.13.3"
  }
 },
 "nbformat": 4,
 "nbformat_minor": 5
}
