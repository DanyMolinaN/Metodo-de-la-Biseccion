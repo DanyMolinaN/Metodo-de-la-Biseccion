{
 "cells": [
  {
   "cell_type": "markdown",
   "id": "64b357ef",
   "metadata": {},
   "source": [
    "<div style=\"text-align: center;\">\n",
    "\n",
    "## Escuela Politécnica Nacional\n",
    "\n",
    "</div>\n",
    "\n",
    "**Nombre:**  Dany Molina\n",
    "\n",
    "**Fecha:**  18/05/2025\n",
    "\n",
    "<div style=\"text-align: center;\">\n",
    "\n",
    "## Tarea 4 - Método de la Bisección\n",
    "\n",
    "### Ejercicio 5\n",
    "\n",
    "</div>"
   ]
  },
  {
   "cell_type": "markdown",
   "id": "c5f20145",
   "metadata": {},
   "source": [
    "**5.** Sea $𝑓(𝑥) = (𝑥 + 3)(𝑥 + 1)^{2}x(x-1)^{3}(x-3)$. ¿En qué cero de $𝑓$ converge el método de bisección cuando se aplica en los siguientes intervalos?\n",
    "\n",
    "**a.** $[-1.5,2.5]$"
   ]
  },
  {
   "cell_type": "code",
   "execution_count": 7,
   "id": "dc749d36",
   "metadata": {},
   "outputs": [
    {
     "name": "stdout",
     "output_type": "stream",
     "text": [
      "Intervalo en el que se busca la raíz: [-1.5, 2.5]\n",
      "f(-1.5) = -3.9551e+01, f(2.5) = -2.8424e+02\n",
      "No hay cambio de signo en [-1.5, 2.5]. No se puede aplicar bisección.\n",
      "\n"
     ]
    }
   ],
   "source": [
    "def f(x):\n",
    "    return (x + 3) * (x + 1)**2 * x * (x - 1)**3 * (x - 3)\n",
    "\n",
    "def biseccion(f, a, b, tol=1e-5, max_iter=100):\n",
    "    fa = f(a)\n",
    "    fb = f(b)\n",
    "\n",
    "    if fa == 0:\n",
    "        print(f\"f({a}) = 0 ⇒ raíz exacta encontrada: x = {a}\\n\")\n",
    "        return a\n",
    "    if fb == 0:\n",
    "        print(f\"f({b}) = 0 ⇒ raíz exacta encontrada: x = {b}\\n\")\n",
    "        return b\n",
    "    if fa * fb > 0:\n",
    "        print(f\"No hay cambio de signo en [{a}, {b}]. No se puede aplicar bisección.\\n\")\n",
    "        return None\n",
    "    \n",
    "    print(f\"Aplicando bisección en el intervalo [{a}, {b}]:\")\n",
    "    for i in range(max_iter):\n",
    "        m = (a + b) / 2\n",
    "        fm = f(m)\n",
    "        print(f\"Iteración {i+1}: m = {m:.8f}, f(m) = {fm:.8e}\")\n",
    "        if abs(fm) < tol or (b - a) / 2 < tol:\n",
    "            print(f\"Raíz aproximada: x = {m:.8f}\\n\")\n",
    "            return m\n",
    "        elif fa * fm < 0:\n",
    "            b = m\n",
    "            fb = fm\n",
    "        else:\n",
    "            a = m\n",
    "            fa = fm\n",
    "    print(\"No se alcanzó la tolerancia en el número máximo de iteraciones.\\n\")\n",
    "    return None\n",
    "\n",
    "# Evalunado en el intervalo\n",
    "print(\"Intervalo en el que se busca la raíz: [-1.5, 2.5]\")\n",
    "fa = f(-1.5)\n",
    "fb = f(2.5)\n",
    "print(f\"f({-1.5}) = {fa:.4e}, f({2.5}) = {fb:.4e}\")\n",
    "biseccion(f, -1.5, 2.5, tol=1e-5)"
   ]
  },
  {
   "cell_type": "markdown",
   "id": "ff3db84a",
   "metadata": {},
   "source": [
    "**b.** $[-0.5,2.4]$"
   ]
  },
  {
   "cell_type": "code",
   "execution_count": 8,
   "id": "83823c44",
   "metadata": {},
   "outputs": [
    {
     "name": "stdout",
     "output_type": "stream",
     "text": [
      "Intervalo en el que se busca la raíz: [-0.5, 2.4]\n",
      "f(-0.5) = -3.6914e+00, f(2.4) = -2.4666e+02\n",
      "No hay cambio de signo en [-0.5, 2.4]. No se puede aplicar bisección.\n",
      "\n"
     ]
    }
   ],
   "source": [
    "# Evalunado en el intervalo\n",
    "print(\"Intervalo en el que se busca la raíz: [-0.5, 2.4]\")\n",
    "fa = f(-0.5)\n",
    "fb = f(2.4)\n",
    "print(f\"f({-0.5}) = {fa:.4e}, f({2.4}) = {fb:.4e}\")\n",
    "biseccion(f, -0.5, 2.4, tol=1e-5)"
   ]
  },
  {
   "cell_type": "markdown",
   "id": "e35222e0",
   "metadata": {},
   "source": [
    "**c.** $[-0.5,3]$"
   ]
  },
  {
   "cell_type": "code",
   "execution_count": 9,
   "id": "cba38d72",
   "metadata": {},
   "outputs": [
    {
     "name": "stdout",
     "output_type": "stream",
     "text": [
      "Intervalo en el que se busca la raíz: [-0.5, 3]\n",
      "f(-0.5) = -3.6914e+00, f(3) = 0.0000e+00\n",
      "f(3) = 0 ⇒ raíz exacta encontrada: x = 3\n",
      "\n"
     ]
    },
    {
     "data": {
      "text/plain": [
       "3"
      ]
     },
     "execution_count": 9,
     "metadata": {},
     "output_type": "execute_result"
    }
   ],
   "source": [
    "# Evalunado en el intervalo\n",
    "print(\"Intervalo en el que se busca la raíz: [-0.5, 3]\")\n",
    "fa = f(-0.5)\n",
    "fb = f(3)\n",
    "print(f\"f({-0.5}) = {fa:.4e}, f({3}) = {fb:.4e}\")\n",
    "biseccion(f, -0.5, 3, tol=1e-5)"
   ]
  },
  {
   "cell_type": "markdown",
   "id": "6347b6e6",
   "metadata": {},
   "source": [
    "**d.** $[-3,-0.5]$"
   ]
  },
  {
   "cell_type": "code",
   "execution_count": 10,
   "id": "1b06adba",
   "metadata": {},
   "outputs": [
    {
     "name": "stdout",
     "output_type": "stream",
     "text": [
      "Intervalo en el que se busca la raíz: [-3, -0.5]\n",
      "f(-3) = 0.0000e+00, f(-0.5) = -3.6914e+00\n",
      "f(-3) = 0 ⇒ raíz exacta encontrada: x = -3\n",
      "\n"
     ]
    },
    {
     "data": {
      "text/plain": [
       "-3"
      ]
     },
     "execution_count": 10,
     "metadata": {},
     "output_type": "execute_result"
    }
   ],
   "source": [
    "# Evalunado en el intervalo\n",
    "print(\"Intervalo en el que se busca la raíz: [-3, -0.5]\")\n",
    "fa = f(-3)\n",
    "fb = f(-0.5)\n",
    "print(f\"f({-3}) = {fa:.4e}, f({-0.5}) = {fb:.4e}\")\n",
    "biseccion(f, -3, -0.5, tol=1e-5)"
   ]
  }
 ],
 "metadata": {
  "kernelspec": {
   "display_name": "Python 3",
   "language": "python",
   "name": "python3"
  },
  "language_info": {
   "codemirror_mode": {
    "name": "ipython",
    "version": 3
   },
   "file_extension": ".py",
   "mimetype": "text/x-python",
   "name": "python",
   "nbconvert_exporter": "python",
   "pygments_lexer": "ipython3",
   "version": "3.13.3"
  }
 },
 "nbformat": 4,
 "nbformat_minor": 5
}
